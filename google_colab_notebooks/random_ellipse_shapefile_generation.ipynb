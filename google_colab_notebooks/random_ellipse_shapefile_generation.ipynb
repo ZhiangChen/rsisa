{
 "cells": [
  {
   "cell_type": "code",
   "execution_count": 1,
   "metadata": {
    "colab": {
     "base_uri": "https://localhost:8080/"
    },
    "executionInfo": {
     "elapsed": 11409,
     "status": "ok",
     "timestamp": 1651972796907,
     "user": {
      "displayName": "Zhiang Chen",
      "userId": "14710434422152901796"
     },
     "user_tz": 420
    },
    "id": "KXH4bYZP5HBo",
    "outputId": "4a098cde-1856-4335-9386-ac8f605e8c3a"
   },
   "outputs": [
    {
     "name": "stdout",
     "output_type": "stream",
     "text": [
      "Collecting geopandas\n",
      "  Downloading geopandas-0.10.2-py2.py3-none-any.whl (1.0 MB)\n",
      "\u001b[?25l\r",
      "\u001b[K     |▎                               | 10 kB 21.0 MB/s eta 0:00:01\r",
      "\u001b[K     |▋                               | 20 kB 24.6 MB/s eta 0:00:01\r",
      "\u001b[K     |█                               | 30 kB 28.0 MB/s eta 0:00:01\r",
      "\u001b[K     |█▎                              | 40 kB 21.1 MB/s eta 0:00:01\r",
      "\u001b[K     |█▋                              | 51 kB 14.2 MB/s eta 0:00:01\r",
      "\u001b[K     |██                              | 61 kB 15.9 MB/s eta 0:00:01\r",
      "\u001b[K     |██▎                             | 71 kB 17.4 MB/s eta 0:00:01\r",
      "\u001b[K     |██▌                             | 81 kB 18.7 MB/s eta 0:00:01\r",
      "\u001b[K     |██▉                             | 92 kB 20.1 MB/s eta 0:00:01\r",
      "\u001b[K     |███▏                            | 102 kB 20.0 MB/s eta 0:00:01\r",
      "\u001b[K     |███▌                            | 112 kB 20.0 MB/s eta 0:00:01\r",
      "\u001b[K     |███▉                            | 122 kB 20.0 MB/s eta 0:00:01\r",
      "\u001b[K     |████▏                           | 133 kB 20.0 MB/s eta 0:00:01\r",
      "\u001b[K     |████▌                           | 143 kB 20.0 MB/s eta 0:00:01\r",
      "\u001b[K     |████▊                           | 153 kB 20.0 MB/s eta 0:00:01\r",
      "\u001b[K     |█████                           | 163 kB 20.0 MB/s eta 0:00:01\r",
      "\u001b[K     |█████▍                          | 174 kB 20.0 MB/s eta 0:00:01\r",
      "\u001b[K     |█████▊                          | 184 kB 20.0 MB/s eta 0:00:01\r",
      "\u001b[K     |██████                          | 194 kB 20.0 MB/s eta 0:00:01\r",
      "\u001b[K     |██████▍                         | 204 kB 20.0 MB/s eta 0:00:01\r",
      "\u001b[K     |██████▊                         | 215 kB 20.0 MB/s eta 0:00:01\r",
      "\u001b[K     |███████                         | 225 kB 20.0 MB/s eta 0:00:01\r",
      "\u001b[K     |███████▎                        | 235 kB 20.0 MB/s eta 0:00:01\r",
      "\u001b[K     |███████▋                        | 245 kB 20.0 MB/s eta 0:00:01\r",
      "\u001b[K     |████████                        | 256 kB 20.0 MB/s eta 0:00:01\r",
      "\u001b[K     |████████▎                       | 266 kB 20.0 MB/s eta 0:00:01\r",
      "\u001b[K     |████████▋                       | 276 kB 20.0 MB/s eta 0:00:01\r",
      "\u001b[K     |█████████                       | 286 kB 20.0 MB/s eta 0:00:01\r",
      "\u001b[K     |█████████▏                      | 296 kB 20.0 MB/s eta 0:00:01\r",
      "\u001b[K     |█████████▌                      | 307 kB 20.0 MB/s eta 0:00:01\r",
      "\u001b[K     |█████████▉                      | 317 kB 20.0 MB/s eta 0:00:01\r",
      "\u001b[K     |██████████▏                     | 327 kB 20.0 MB/s eta 0:00:01\r",
      "\u001b[K     |██████████▌                     | 337 kB 20.0 MB/s eta 0:00:01\r",
      "\u001b[K     |██████████▉                     | 348 kB 20.0 MB/s eta 0:00:01\r",
      "\u001b[K     |███████████▏                    | 358 kB 20.0 MB/s eta 0:00:01\r",
      "\u001b[K     |███████████▍                    | 368 kB 20.0 MB/s eta 0:00:01\r",
      "\u001b[K     |███████████▊                    | 378 kB 20.0 MB/s eta 0:00:01\r",
      "\u001b[K     |████████████                    | 389 kB 20.0 MB/s eta 0:00:01\r",
      "\u001b[K     |████████████▍                   | 399 kB 20.0 MB/s eta 0:00:01\r",
      "\u001b[K     |████████████▊                   | 409 kB 20.0 MB/s eta 0:00:01\r",
      "\u001b[K     |█████████████                   | 419 kB 20.0 MB/s eta 0:00:01\r",
      "\u001b[K     |█████████████▍                  | 430 kB 20.0 MB/s eta 0:00:01\r",
      "\u001b[K     |█████████████▋                  | 440 kB 20.0 MB/s eta 0:00:01\r",
      "\u001b[K     |██████████████                  | 450 kB 20.0 MB/s eta 0:00:01\r",
      "\u001b[K     |██████████████▎                 | 460 kB 20.0 MB/s eta 0:00:01\r",
      "\u001b[K     |██████████████▋                 | 471 kB 20.0 MB/s eta 0:00:01\r",
      "\u001b[K     |███████████████                 | 481 kB 20.0 MB/s eta 0:00:01\r",
      "\u001b[K     |███████████████▎                | 491 kB 20.0 MB/s eta 0:00:01\r",
      "\u001b[K     |███████████████▋                | 501 kB 20.0 MB/s eta 0:00:01\r",
      "\u001b[K     |███████████████▉                | 512 kB 20.0 MB/s eta 0:00:01\r",
      "\u001b[K     |████████████████▏               | 522 kB 20.0 MB/s eta 0:00:01\r",
      "\u001b[K     |████████████████▌               | 532 kB 20.0 MB/s eta 0:00:01\r",
      "\u001b[K     |████████████████▉               | 542 kB 20.0 MB/s eta 0:00:01\r",
      "\u001b[K     |█████████████████▏              | 552 kB 20.0 MB/s eta 0:00:01\r",
      "\u001b[K     |█████████████████▌              | 563 kB 20.0 MB/s eta 0:00:01\r",
      "\u001b[K     |█████████████████▉              | 573 kB 20.0 MB/s eta 0:00:01\r",
      "\u001b[K     |██████████████████              | 583 kB 20.0 MB/s eta 0:00:01\r",
      "\u001b[K     |██████████████████▍             | 593 kB 20.0 MB/s eta 0:00:01\r",
      "\u001b[K     |██████████████████▊             | 604 kB 20.0 MB/s eta 0:00:01\r",
      "\u001b[K     |███████████████████             | 614 kB 20.0 MB/s eta 0:00:01\r",
      "\u001b[K     |███████████████████▍            | 624 kB 20.0 MB/s eta 0:00:01\r",
      "\u001b[K     |███████████████████▊            | 634 kB 20.0 MB/s eta 0:00:01\r",
      "\u001b[K     |████████████████████            | 645 kB 20.0 MB/s eta 0:00:01\r",
      "\u001b[K     |████████████████████▎           | 655 kB 20.0 MB/s eta 0:00:01\r",
      "\u001b[K     |████████████████████▋           | 665 kB 20.0 MB/s eta 0:00:01\r",
      "\u001b[K     |█████████████████████           | 675 kB 20.0 MB/s eta 0:00:01\r",
      "\u001b[K     |█████████████████████▎          | 686 kB 20.0 MB/s eta 0:00:01\r",
      "\u001b[K     |█████████████████████▋          | 696 kB 20.0 MB/s eta 0:00:01\r",
      "\u001b[K     |██████████████████████          | 706 kB 20.0 MB/s eta 0:00:01\r",
      "\u001b[K     |██████████████████████▎         | 716 kB 20.0 MB/s eta 0:00:01\r",
      "\u001b[K     |██████████████████████▋         | 727 kB 20.0 MB/s eta 0:00:01\r",
      "\u001b[K     |██████████████████████▉         | 737 kB 20.0 MB/s eta 0:00:01\r",
      "\u001b[K     |███████████████████████▏        | 747 kB 20.0 MB/s eta 0:00:01\r",
      "\u001b[K     |███████████████████████▌        | 757 kB 20.0 MB/s eta 0:00:01\r",
      "\u001b[K     |███████████████████████▉        | 768 kB 20.0 MB/s eta 0:00:01\r",
      "\u001b[K     |████████████████████████▏       | 778 kB 20.0 MB/s eta 0:00:01\r",
      "\u001b[K     |████████████████████████▌       | 788 kB 20.0 MB/s eta 0:00:01\r",
      "\u001b[K     |████████████████████████▉       | 798 kB 20.0 MB/s eta 0:00:01\r",
      "\u001b[K     |█████████████████████████       | 808 kB 20.0 MB/s eta 0:00:01\r",
      "\u001b[K     |█████████████████████████▍      | 819 kB 20.0 MB/s eta 0:00:01\r",
      "\u001b[K     |█████████████████████████▊      | 829 kB 20.0 MB/s eta 0:00:01\r",
      "\u001b[K     |██████████████████████████      | 839 kB 20.0 MB/s eta 0:00:01\r",
      "\u001b[K     |██████████████████████████▍     | 849 kB 20.0 MB/s eta 0:00:01\r",
      "\u001b[K     |██████████████████████████▊     | 860 kB 20.0 MB/s eta 0:00:01\r",
      "\u001b[K     |███████████████████████████     | 870 kB 20.0 MB/s eta 0:00:01\r",
      "\u001b[K     |███████████████████████████▎    | 880 kB 20.0 MB/s eta 0:00:01\r",
      "\u001b[K     |███████████████████████████▋    | 890 kB 20.0 MB/s eta 0:00:01\r",
      "\u001b[K     |████████████████████████████    | 901 kB 20.0 MB/s eta 0:00:01\r",
      "\u001b[K     |████████████████████████████▎   | 911 kB 20.0 MB/s eta 0:00:01\r",
      "\u001b[K     |████████████████████████████▋   | 921 kB 20.0 MB/s eta 0:00:01\r",
      "\u001b[K     |█████████████████████████████   | 931 kB 20.0 MB/s eta 0:00:01\r",
      "\u001b[K     |█████████████████████████████▎  | 942 kB 20.0 MB/s eta 0:00:01\r",
      "\u001b[K     |█████████████████████████████▌  | 952 kB 20.0 MB/s eta 0:00:01\r",
      "\u001b[K     |█████████████████████████████▉  | 962 kB 20.0 MB/s eta 0:00:01\r",
      "\u001b[K     |██████████████████████████████▏ | 972 kB 20.0 MB/s eta 0:00:01\r",
      "\u001b[K     |██████████████████████████████▌ | 983 kB 20.0 MB/s eta 0:00:01\r",
      "\u001b[K     |██████████████████████████████▉ | 993 kB 20.0 MB/s eta 0:00:01\r",
      "\u001b[K     |███████████████████████████████▏| 1.0 MB 20.0 MB/s eta 0:00:01\r",
      "\u001b[K     |███████████████████████████████▌| 1.0 MB 20.0 MB/s eta 0:00:01\r",
      "\u001b[K     |███████████████████████████████▊| 1.0 MB 20.0 MB/s eta 0:00:01\r",
      "\u001b[K     |████████████████████████████████| 1.0 MB 20.0 MB/s \n",
      "\u001b[?25hRequirement already satisfied: shapely>=1.6 in /usr/local/lib/python3.7/dist-packages (from geopandas) (1.8.1.post1)\n",
      "Collecting pyproj>=2.2.0\n",
      "  Downloading pyproj-3.2.1-cp37-cp37m-manylinux2010_x86_64.whl (6.3 MB)\n",
      "\u001b[K     |████████████████████████████████| 6.3 MB 41.2 MB/s \n",
      "\u001b[?25hCollecting fiona>=1.8\n",
      "  Downloading Fiona-1.8.21-cp37-cp37m-manylinux2014_x86_64.whl (16.7 MB)\n",
      "\u001b[K     |████████████████████████████████| 16.7 MB 294 kB/s \n",
      "\u001b[?25hRequirement already satisfied: pandas>=0.25.0 in /usr/local/lib/python3.7/dist-packages (from geopandas) (1.3.5)\n",
      "Requirement already satisfied: six>=1.7 in /usr/local/lib/python3.7/dist-packages (from fiona>=1.8->geopandas) (1.15.0)\n",
      "Collecting click-plugins>=1.0\n",
      "  Downloading click_plugins-1.1.1-py2.py3-none-any.whl (7.5 kB)\n",
      "Requirement already satisfied: click>=4.0 in /usr/local/lib/python3.7/dist-packages (from fiona>=1.8->geopandas) (7.1.2)\n",
      "Requirement already satisfied: setuptools in /usr/local/lib/python3.7/dist-packages (from fiona>=1.8->geopandas) (57.4.0)\n",
      "Collecting munch\n",
      "  Downloading munch-2.5.0-py2.py3-none-any.whl (10 kB)\n",
      "Requirement already satisfied: attrs>=17 in /usr/local/lib/python3.7/dist-packages (from fiona>=1.8->geopandas) (21.4.0)\n",
      "Requirement already satisfied: certifi in /usr/local/lib/python3.7/dist-packages (from fiona>=1.8->geopandas) (2021.10.8)\n",
      "Collecting cligj>=0.5\n",
      "  Downloading cligj-0.7.2-py3-none-any.whl (7.1 kB)\n",
      "Requirement already satisfied: pytz>=2017.3 in /usr/local/lib/python3.7/dist-packages (from pandas>=0.25.0->geopandas) (2022.1)\n",
      "Requirement already satisfied: numpy>=1.17.3 in /usr/local/lib/python3.7/dist-packages (from pandas>=0.25.0->geopandas) (1.21.6)\n",
      "Requirement already satisfied: python-dateutil>=2.7.3 in /usr/local/lib/python3.7/dist-packages (from pandas>=0.25.0->geopandas) (2.8.2)\n",
      "Installing collected packages: munch, cligj, click-plugins, pyproj, fiona, geopandas\n",
      "Successfully installed click-plugins-1.1.1 cligj-0.7.2 fiona-1.8.21 geopandas-0.10.2 munch-2.5.0 pyproj-3.2.1\n"
     ]
    }
   ],
   "source": [
    "!pip install geopandas"
   ]
  },
  {
   "cell_type": "code",
   "execution_count": 2,
   "metadata": {
    "colab": {
     "base_uri": "https://localhost:8080/"
    },
    "executionInfo": {
     "elapsed": 17427,
     "status": "ok",
     "timestamp": 1651972814325,
     "user": {
      "displayName": "Zhiang Chen",
      "userId": "14710434422152901796"
     },
     "user_tz": 420
    },
    "id": "WLQ2LSQM3229",
    "outputId": "5e307e83-c3ad-4a11-b20a-0171718a634c"
   },
   "outputs": [
    {
     "name": "stdout",
     "output_type": "stream",
     "text": [
      "Mounted at /content/drive\n"
     ]
    },
    {
     "data": {
      "text/plain": [
       "['data',\n",
       " 'instance_registration.ipynb',\n",
       " 'TGRS',\n",
       " 'instance_registration_IoU.ipynb',\n",
       " 'random_ellipse_shapefile_generation.ipynb',\n",
       " 'tile_splitting.ipynb',\n",
       " 'instance_registration_IoU_all_adjacents.ipynb']"
      ]
     },
     "execution_count": 2,
     "metadata": {},
     "output_type": "execute_result"
    }
   ],
   "source": [
    "import fiona\n",
    "from fiona.crs import from_epsg\n",
    "from pyproj import CRS\n",
    "import os\n",
    "from matplotlib.patches import Ellipse\n",
    "from shapely.geometry import Polygon, mapping\n",
    "import numpy as np\n",
    "from tqdm import tqdm\n",
    "from osgeo import gdal\n",
    "\n",
    "from google.colab import drive\n",
    "drive.mount(\"/content/drive\")\n",
    "os.chdir('/content/drive/MyDrive/ASU - Zhiang/Projects/instance segmentation/')\n",
    "os.listdir()"
   ]
  },
  {
   "cell_type": "markdown",
   "metadata": {
    "id": "6By__A7yCJI9"
   },
   "source": [
    "# generate random ellipses "
   ]
  },
  {
   "cell_type": "code",
   "execution_count": 3,
   "metadata": {
    "colab": {
     "base_uri": "https://localhost:8080/"
    },
    "executionInfo": {
     "elapsed": 13,
     "status": "ok",
     "timestamp": 1651972814326,
     "user": {
      "displayName": "Zhiang Chen",
      "userId": "14710434422152901796"
     },
     "user_tz": 420
    },
    "id": "o8CUrRaL5Acp",
    "outputId": "3523e7e8-058e-4523-a81f-fa60ae290a61"
   },
   "outputs": [
    {
     "name": "stdout",
     "output_type": "stream",
     "text": [
      "epsg:32611\n"
     ]
    }
   ],
   "source": [
    "epsg = 32611  # WGS 84 / UTM zone 11N\n",
    "crs = from_epsg(epsg)\n",
    "print(CRS.from_epsg(epsg))"
   ]
  },
  {
   "cell_type": "code",
   "execution_count": 4,
   "metadata": {
    "executionInfo": {
     "elapsed": 11,
     "status": "ok",
     "timestamp": 1651972814326,
     "user": {
      "displayName": "Zhiang Chen",
      "userId": "14710434422152901796"
     },
     "user_tz": 420
    },
    "id": "je-2-cG-HRX6"
   },
   "outputs": [],
   "source": [
    "def generate_ellipse(center_x, center_y, width, height, angle):\n",
    "  ellipse = Ellipse((center_x, center_y), width, height, angle) \n",
    "  vertices = ellipse.get_verts()     # get the vertices from the ellipse object\n",
    "  ellipse = Polygon(vertices)        # Turn it into a polygon\n",
    "  return ellipse"
   ]
  },
  {
   "cell_type": "code",
   "execution_count": 24,
   "metadata": {
    "colab": {
     "base_uri": "https://localhost:8080/"
    },
    "executionInfo": {
     "elapsed": 847,
     "status": "ok",
     "timestamp": 1651994199990,
     "user": {
      "displayName": "Zhiang Chen",
      "userId": "14710434422152901796"
     },
     "user_tz": 420
    },
    "id": "VcGcilIjD8jA",
    "outputId": "d067385c-aa53-4d3b-dc48-151066599d09"
   },
   "outputs": [
    {
     "name": "stderr",
     "output_type": "stream",
     "text": [
      "100%|██████████| 3600/3600 [00:00<00:00, 6006.57it/s]\n"
     ]
    }
   ],
   "source": [
    "def spawn_ellipses(tile_length, ellipse_length_range, density, tile_number):\n",
    "  \"\"\"\n",
    "  tile: tile_length/tile_width in meters\n",
    "  ellipse: length_length_range in meters\n",
    "  density: average number of ellipses per tile\n",
    "  study area: tile_number along north (the total study are is tile_length^2 * tile_number^2)\n",
    "  tile origin is (0, 0)\n",
    "  \"\"\"\n",
    "  ellipses = []\n",
    "  N = tile_number**2 * density\n",
    "  X = tile_length * tile_number\n",
    "  Y = tile_length * tile_number\n",
    "  center_x_list = np.random.rand(N) * X\n",
    "  center_y_list = np.random.rand(N) * Y\n",
    "  angle_list = np.random.rand(N) * 180\n",
    "  width_list = np.random.uniform(ellipse_length_range[0], ellipse_length_range[1], N)\n",
    "  height_list = np.random.uniform(ellipse_length_range[0], ellipse_length_range[1], N)\n",
    "  for i in tqdm(range(N)):\n",
    "    ellipse = generate_ellipse(center_x_list[i], center_y_list[i], width_list[i], height_list[i], angle_list[i])\n",
    "    ellipses.append(ellipse)\n",
    "  return ellipses\n",
    "\n",
    "ellipse_max = 1.5\n",
    "ellipse_min = 0.2\n",
    "tile_length = 10 \n",
    "ellipse_range = (ellipse_min, ellipse_max)\n",
    "density = 400\n",
    "tile_number = 3\n",
    "\n",
    "ellipses = spawn_ellipses(tile_length, ellipse_range, density, tile_number)\n"
   ]
  },
  {
   "cell_type": "code",
   "execution_count": 25,
   "metadata": {
    "executionInfo": {
     "elapsed": 2094,
     "status": "ok",
     "timestamp": 1651994203319,
     "user": {
      "displayName": "Zhiang Chen",
      "userId": "14710434422152901796"
     },
     "user_tz": 420
    },
    "id": "I7IUYW905vN4"
   },
   "outputs": [],
   "source": [
    "schema = {\n",
    "    'geometry':'Polygon',\n",
    "    'properties':[('id','str')]\n",
    "}\n",
    "\n",
    "# 2. open a write file\n",
    "polyShp = fiona.open('data/random_generation/random_400_3.shp', mode='w', driver='ESRI Shapefile', schema = schema, crs = crs)\n",
    "\n",
    "# 3. add polygons to file\n",
    "for id, polygon in enumerate(ellipses):\n",
    "  rowDict = {'geometry' : mapping(polygon), 'properties': {'id': str(id)}}\n",
    "  polyShp.write(rowDict)\n",
    "\n",
    "# 4. write file\n",
    "polyShp.close()\n"
   ]
  },
  {
   "cell_type": "markdown",
   "metadata": {
    "id": "kFqgg8ZLCB3c"
   },
   "source": [
    "# generate a fake tiff file"
   ]
  },
  {
   "cell_type": "code",
   "execution_count": 23,
   "metadata": {
    "executionInfo": {
     "elapsed": 167,
     "status": "ok",
     "timestamp": 1651991927057,
     "user": {
      "displayName": "Zhiang Chen",
      "userId": "14710434422152901796"
     },
     "user_tz": 420
    },
    "id": "sv0CWgeCF96Y"
   },
   "outputs": [],
   "source": [
    "from osgeo import gdal\n",
    "from osgeo import osr\n",
    "import numpy as np\n",
    "import os, sys\n",
    "\n",
    "# raster resolution\n",
    "xres = 0.01\n",
    "yres = 0.01\n",
    "\n",
    "#  Choose some Geographic Transform (Around Lake Tahoe)\n",
    "lat = [0, tile_length*tile_number + ellipse_max/2]\n",
    "lon = [0, tile_length*tile_number + ellipse_max/2]\n",
    "\n",
    "#  Calculate the Image Size\n",
    "image_size = (int(lat[1]/xres), int(lon[1]/yres))\n",
    "\n",
    "#  Create Each Channel\n",
    "r_pixels = np.ones((image_size), dtype=np.uint8)*0\n",
    "\n",
    "# set geotransform\n",
    "nx = image_size[0]\n",
    "ny = image_size[1]\n",
    "xmin, ymin, xmax, ymax = [min(lon), min(lat), max(lon), max(lat)]\n",
    "geotransform = (xmin, xres, 0, ymax, 0, -yres)\n",
    "\n",
    "# create the 3-band raster file\n",
    "dst_ds = gdal.GetDriverByName('GTiff').Create('data/random_generation/random_400_3.tif', ny, nx, 1, gdal.GDT_Byte)\n",
    "\n",
    "dst_ds.SetGeoTransform(geotransform)    # specify coords\n",
    "srs = osr.SpatialReference()            # establish encoding\n",
    "srs.ImportFromEPSG(epsg)                # WGS84 lat/long\n",
    "dst_ds.SetProjection(srs.ExportToWkt()) # export coords to file\n",
    "dst_ds.GetRasterBand(1).WriteArray(r_pixels)   # write r-band to the raster\n",
    "dst_ds.FlushCache()                     # write to disk\n",
    "dst_ds = None"
   ]
  },
  {
   "cell_type": "code",
   "execution_count": null,
   "metadata": {
    "id": "-TqFcbeEQkv7"
   },
   "outputs": [],
   "source": []
  }
 ],
 "metadata": {
  "colab": {
   "authorship_tag": "ABX9TyNMe/FNc3ZYUsj5JSGsY81I",
   "name": "random_ellipse_shapefile_generation.ipynb",
   "provenance": []
  },
  "kernelspec": {
   "display_name": "Python 3 (ipykernel)",
   "language": "python",
   "name": "python3"
  },
  "language_info": {
   "codemirror_mode": {
    "name": "ipython",
    "version": 3
   },
   "file_extension": ".py",
   "mimetype": "text/x-python",
   "name": "python",
   "nbconvert_exporter": "python",
   "pygments_lexer": "ipython3",
   "version": "3.8.10"
  }
 },
 "nbformat": 4,
 "nbformat_minor": 1
}
