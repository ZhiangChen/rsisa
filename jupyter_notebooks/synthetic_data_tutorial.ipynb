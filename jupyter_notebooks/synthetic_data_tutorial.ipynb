{
 "cells": [
  {
   "cell_type": "code",
   "execution_count": 7,
   "metadata": {
    "colab": {
     "base_uri": "https://localhost:8080/"
    },
    "executionInfo": {
     "elapsed": 11409,
     "status": "ok",
     "timestamp": 1651972796907,
     "user": {
      "displayName": "Zhiang Chen",
      "userId": "14710434422152901796"
     },
     "user_tz": 420
    },
    "id": "KXH4bYZP5HBo",
    "outputId": "4a098cde-1856-4335-9386-ac8f605e8c3a"
   },
   "outputs": [],
   "source": [
    "google_colab = False\n",
    "\n",
    "if google_colab:\n",
    "    !pip install geopandas\n",
    "    from google.colab import drive\n",
    "    drive.mount(\"/content/drive\")\n",
    "    os.chdir('/content/drive/MyDrive/ASU - Zhiang/Projects/instance segmentation/')\n",
    "    os.listdir()\n",
    "    \n",
    "import os"
   ]
  },
  {
   "cell_type": "markdown",
   "metadata": {},
   "source": [
    "# generate random ellipses"
   ]
  },
  {
   "cell_type": "code",
   "execution_count": 2,
   "metadata": {
    "colab": {
     "base_uri": "https://localhost:8080/"
    },
    "executionInfo": {
     "elapsed": 17427,
     "status": "ok",
     "timestamp": 1651972814325,
     "user": {
      "displayName": "Zhiang Chen",
      "userId": "14710434422152901796"
     },
     "user_tz": 420
    },
    "id": "WLQ2LSQM3229",
    "outputId": "5e307e83-c3ad-4a11-b20a-0171718a634c"
   },
   "outputs": [],
   "source": [
    "from rsisa.ellipse_instance_generation import spawn_ellipses"
   ]
  },
  {
   "cell_type": "code",
   "execution_count": 3,
   "metadata": {},
   "outputs": [
    {
     "name": "stdout",
     "output_type": "stream",
     "text": [
      "Help on function spawn_ellipses in module rsisa.ellipse_instance_generation:\n",
      "\n",
      "spawn_ellipses(tile_length, ellipse_length_range, density, tile_number, overlap, shp_path, generate_tiff, xres=0.01, yres=0.01)\n",
      "    spawn a list of random ellipses and save to a shapefile\n",
      "    \n",
      "    Args:\n",
      "        tile_length (float): tile_length/tile_width in meters\n",
      "        ellipse_length_range (tuple): (ellipse_min, ellipse_max)\n",
      "        density (int): average number of ellipses per tile\n",
      "        tile_number (int): number of tiles in horizontal or vertical direction\n",
      "        overlap (float): overlap between adjacent tiles\n",
      "        shp_path (string): shape file directory \n",
      "        generate_tiff (bool): generate fake tiff file for the boundary of the study area if True. otherwise, not. \n",
      "        xres (float): raster resolution in meters. xres and yres are used only when generate_tiff is True\n",
      "        yres (float): raster resolution in meters\n",
      "\n"
     ]
    }
   ],
   "source": [
    "help(spawn_ellipses)"
   ]
  },
  {
   "cell_type": "code",
   "execution_count": 5,
   "metadata": {
    "scrolled": true
   },
   "outputs": [
    {
     "name": "stdout",
     "output_type": "stream",
     "text": [
      "generate ellipse instances: \n"
     ]
    },
    {
     "name": "stderr",
     "output_type": "stream",
     "text": [
      "100%|███████████████████████████████████████| 900/900 [00:00<00:00, 5346.79it/s]\n"
     ]
    }
   ],
   "source": [
    "# you need to manually create a folder first: \n",
    "#'/root/rsisa/data/random_generation_tutorial'\n",
    "\n",
    "spawn_ellipses(tile_length=10, \n",
    "               ellipse_length_range=(0.3, 1.0), \n",
    "               density=100, \n",
    "               tile_number=3, \n",
    "               overlap=1, \n",
    "               shp_path='/root/rsisa/data/random_generation_tutorial', \n",
    "               generate_tiff=True,\n",
    "               xres=0.01,\n",
    "               yres=0.01)\n"
   ]
  },
  {
   "cell_type": "code",
   "execution_count": 8,
   "metadata": {
    "scrolled": true
   },
   "outputs": [
    {
     "data": {
      "text/plain": [
       "['ellipses_100_10_3_1000_10_300_1000.dbf',\n",
       " 'ellipses_100_10_3_1000_10_300_1000.cpg',\n",
       " 'ellipses_100_10_3_1000_10_300_1000.shx',\n",
       " 'ellipses_100_10_3_1000_10_300_1000.prj',\n",
       " 'ellipses_100_10_3_1000_10_300_1000.tif',\n",
       " 'ellipses_100_10_3_1000_10_300_1000.shp']"
      ]
     },
     "execution_count": 8,
     "metadata": {},
     "output_type": "execute_result"
    }
   ],
   "source": [
    "# check the generated files\n",
    "os.listdir('/root/rsisa/data/random_generation_tutorial')"
   ]
  },
  {
   "cell_type": "markdown",
   "metadata": {},
   "source": [
    "The names have the following format:  \n",
    "`ellipses_{density}_{tile_length_in_m}_{tile_number}_{overlap_in_mm}_{pixel_size_in_mm}_{ellipse_max_in_mm}_{ellipse_min_in_mm}`\n"
   ]
  },
  {
   "cell_type": "markdown",
   "metadata": {},
   "source": [
    "# Annotation map splitting"
   ]
  },
  {
   "cell_type": "code",
   "execution_count": 9,
   "metadata": {
    "id": "-TqFcbeEQkv7"
   },
   "outputs": [],
   "source": [
    "from rsisa.annotation_map_split import Tile_Splitter\n",
    "from rsisa.annotation_map_split import Dataset\n",
    "from fiona.crs import CRS"
   ]
  },
  {
   "cell_type": "code",
   "execution_count": 12,
   "metadata": {},
   "outputs": [
    {
     "name": "stdout",
     "output_type": "stream",
     "text": [
      "Help on class Tile_Splitter in module rsisa.annotation_map_split:\n",
      "\n",
      "class Tile_Splitter(builtins.object)\n",
      " |  Tile_Splitter(shapefile_path, save_dir, crs, area_x1, area_y1, area_x2, area_y2, tile_size, overlap, tif_path, keep_instance_tif=True)\n",
      " |  \n",
      " |  Methods defined here:\n",
      " |  \n",
      " |  __init__(self, shapefile_path, save_dir, crs, area_x1, area_y1, area_x2, area_y2, tile_size, overlap, tif_path, keep_instance_tif=True)\n",
      " |      Split an annotation map to annotation tiles (shapefiles). It provides an option to split the corresponding tif map. \n",
      " |      \n",
      " |      Args:\n",
      " |          shapefile_path (string): path of the shapefile to be split\n",
      " |          save_dir (string): path of the split shapefiles to be saved\n",
      " |          crs (_type_): coordinate reference system (e.g., from fiona.crs import from_epsg)\n",
      " |          area_x1 (float): area small coordinate x in meters. Not required if tif_path is not None.\n",
      " |          area_y1 (float): area small coordinate y in meters.\n",
      " |          area_x2 (float): area large coordinate x in meters. (x2, y2) are used to intially decide the study area. The actual study are will also consider the tile_size in the last tiles.\n",
      " |          area_y2 (float): area large coordinate y in meters.\n",
      " |          tile_size (float): in meters\n",
      " |          overlap (float): overlap between tiles in meters.\n",
      " |          tif_path (string or None): path of the tif file to be split. None if only shapefile is to be split.\n",
      " |          keep_instance_tif (bool): it will only save tif files where there are instances if True. Otherwise, it saves all tif tiles. It works only when tif_path is not None.\n",
      " |  \n",
      " |  split(self)\n",
      " |  \n",
      " |  ----------------------------------------------------------------------\n",
      " |  Data descriptors defined here:\n",
      " |  \n",
      " |  __dict__\n",
      " |      dictionary for instance variables (if defined)\n",
      " |  \n",
      " |  __weakref__\n",
      " |      list of weak references to the object (if defined)\n",
      "\n"
     ]
    }
   ],
   "source": [
    "help(Tile_Splitter)"
   ]
  },
  {
   "cell_type": "code",
   "execution_count": 40,
   "metadata": {},
   "outputs": [
    {
     "name": "stdout",
     "output_type": "stream",
     "text": [
      "/root/rsisa/data/random_generation_tutorial/ellipses_100_10_3_1000_10_300_1000.shp\n",
      "/root/rsisa/data/random_generation_tutorial/split_shp_tif\n",
      "/root/rsisa/data/random_generation_tutorial/ellipses_100_10_3_1000_10_300_1000.tif\n",
      "/root/rsisa/data/random_generation_tutorial\n",
      "28\n",
      "28\n"
     ]
    }
   ],
   "source": [
    "shp_path = '/root/rsisa/data/random_generation_tutorial/ellipses_100_10_3_1000_10_300_1000.shp'\n",
    "split_shp_tif_dir = '/root/rsisa/data/random_generation_tutorial/split_shp_tif'\n",
    "tif_path = '/root/rsisa/data/random_generation_tutorial/ellipses_100_10_3_1000_10_300_1000.tif'\n",
    "save_sub_dir = '/root/rsisa/data/random_generation_tutorial'\n",
    "tile_length = 10\n",
    "overlap = 1\n",
    "pixel_size = 0.01\n",
    "tile_number = 3\n",
    "area_x2 = (tile_length - overlap) * tile_number + overlap\n",
    "area_y2 = (tile_length - overlap) * tile_number + overlap \n",
    "ellipse_max = 1.0\n",
    "\n",
    "\n",
    "epsg = 32611  # WGS 84 / UTM zone 11N\n",
    "crs = CRS.from_epsg(epsg)\n",
    "\n",
    "print(shp_path)\n",
    "print(split_shp_tif_dir)\n",
    "print(tif_path)\n",
    "print(save_sub_dir)\n",
    "print(area_x2)\n",
    "print(area_y2)"
   ]
  },
  {
   "cell_type": "code",
   "execution_count": 27,
   "metadata": {},
   "outputs": [
    {
     "name": "stdout",
     "output_type": "stream",
     "text": [
      "annotation splitting ... \n",
      "annotation splitting done \n",
      "save tile shapefiles: \n"
     ]
    },
    {
     "name": "stderr",
     "output_type": "stream",
     "text": [
      "100%|███████████████████████████████████████████| 16/16 [00:00<00:00, 59.33it/s]\n"
     ]
    },
    {
     "name": "stdout",
     "output_type": "stream",
     "text": [
      "save tiff tiles: \n"
     ]
    },
    {
     "name": "stderr",
     "output_type": "stream",
     "text": [
      "100%|███████████████████████████████████████████| 16/16 [00:00<00:00, 65.18it/s]\n"
     ]
    },
    {
     "name": "stdout",
     "output_type": "stream",
     "text": [
      "annotation splitting ... \n",
      "annotation splitting done \n",
      "save tile shapefiles: \n"
     ]
    },
    {
     "name": "stderr",
     "output_type": "stream",
     "text": [
      "100%|█████████████████████████████████████████████| 1/1 [00:00<00:00,  7.73it/s]\n"
     ]
    }
   ],
   "source": [
    "# split the study area and create annotation tiles\n",
    "split_config = {'shapefile_path': shp_path, \n",
    "                'save_dir': split_shp_tif_dir, \n",
    "                'crs':crs, \n",
    "                'area_x1':0, \n",
    "                'area_y1':0, \n",
    "                'area_x2': area_x2,\n",
    "                'area_y2': area_y2,\n",
    "                'tile_size': tile_length, \n",
    "                'overlap': overlap,\n",
    "                'tif_path': tif_path, \n",
    "                'keep_instance_tif': True}\n",
    "\n",
    "ts = Tile_Splitter(**split_config)\n",
    "ts.split()\n",
    "\n",
    "\n",
    "# crop the study area (remove edges)\n",
    "split_config = {'shapefile_path': shp_path, \n",
    "                'save_dir': save_sub_dir, # this should be sub dir\n",
    "                'crs':crs, \n",
    "                'area_x1':0, \n",
    "                'area_y1':0, \n",
    "                'area_x2':area_x2,\n",
    "                'area_y2':area_y2, \n",
    "                'tile_size':(tile_length - overlap) * tile_number + overlap + ellipse_max/2., # just change this to the size of study area. here because the ellipses go slightly than the study area, if we set tile_size of 30, the exceeding part will be split into other tiles. thus we have a large tile_size here.\n",
    "                'overlap':0,\n",
    "                'tif_path': None, \n",
    "                'keep_instance_tif': True}\n",
    "\n",
    "ts = Tile_Splitter(**split_config)\n",
    "ts.split()"
   ]
  },
  {
   "cell_type": "code",
   "execution_count": 28,
   "metadata": {
    "scrolled": true
   },
   "outputs": [
    {
     "data": {
      "text/plain": [
       "['ellipses_100_10_3_1000_10_300_1000_time_space.npy',\n",
       " 'ellipses_100_10_3_1000_10_300_1000.dbf',\n",
       " 'ellipses_100_10_3_1000_10_300_1000.cpg',\n",
       " 'split_shp_tif',\n",
       " '0_0.cpg',\n",
       " 'ellipses_100_10_3_1000_10_300_1000.shx',\n",
       " 'ellipses_100_10_3_1000_10_300_1000.prj',\n",
       " '0_0.prj',\n",
       " '0_0.shx',\n",
       " '0_0.shp',\n",
       " 'ellipses_100_10_3_1000_10_300_1000.tif',\n",
       " '0_0.dbf',\n",
       " 'ellipses_100_10_3_1000_10_300_1000.shp']"
      ]
     },
     "execution_count": 28,
     "metadata": {},
     "output_type": "execute_result"
    }
   ],
   "source": [
    "# check the generated files\n",
    "os.listdir('/root/rsisa/data/random_generation_tutorial')"
   ]
  },
  {
   "cell_type": "code",
   "execution_count": 42,
   "metadata": {},
   "outputs": [
    {
     "name": "stdout",
     "output_type": "stream",
     "text": [
      "save pickles: \n"
     ]
    },
    {
     "name": "stderr",
     "output_type": "stream",
     "text": [
      "100%|███████████████████████████████████████████| 16/16 [00:17<00:00,  1.07s/it]\n"
     ]
    }
   ],
   "source": [
    "# create prediction tiles using the annotation tiles\n",
    "# help(Dataset)\n",
    "ellipse_data = Dataset(pixel_size=int(tile_length/pixel_size), split_path=split_shp_tif_dir, input_channel=(0,)) \n",
    "ellipse_data.save_pickles(zip=zip)"
   ]
  },
  {
   "cell_type": "code",
   "execution_count": 47,
   "metadata": {},
   "outputs": [
    {
     "data": {
      "text/plain": [
       "['2_3.shp',\n",
       " '0_3.dbf',\n",
       " '3_1.shp',\n",
       " '3_2.cpg',\n",
       " '1_0.cpg',\n",
       " '1_1.shp',\n",
       " '1_3.dbf',\n",
       " '2_2.cpg',\n",
       " '1_1.tif',\n",
       " '3_3.prj',\n",
       " '1_2.tif',\n",
       " '0_1.dbf',\n",
       " 'ellipses_100_10_3_1000_10_300_1000_time_space.npy',\n",
       " '1_2.dbf',\n",
       " '3_3.shp',\n",
       " '3_0.shx',\n",
       " '3_1.tif',\n",
       " '2_1.prj',\n",
       " '2_1.tif',\n",
       " '3_0.dbf']"
      ]
     },
     "execution_count": 47,
     "metadata": {},
     "output_type": "execute_result"
    }
   ],
   "source": [
    "# check generated prediction tiles (.zip files)\n",
    "os.listdir('/root/rsisa/data/random_generation_tutorial/split_shp_tif')[:20]"
   ]
  },
  {
   "cell_type": "markdown",
   "metadata": {},
   "source": [
    "`ellipses_100_10_3_1000_10_300_1000_time_space.npy` logs the time and space usage of the annotation splitting process"
   ]
  },
  {
   "cell_type": "markdown",
   "metadata": {},
   "source": [
    "# Instance registration"
   ]
  },
  {
   "cell_type": "code",
   "execution_count": 48,
   "metadata": {},
   "outputs": [],
   "source": [
    "from rsisa.instance_registration import Instance_Registration"
   ]
  },
  {
   "cell_type": "code",
   "execution_count": 49,
   "metadata": {},
   "outputs": [
    {
     "name": "stdout",
     "output_type": "stream",
     "text": [
      "Help on class Instance_Registration in module rsisa.instance_registration:\n",
      "\n",
      "class Instance_Registration(builtins.object)\n",
      " |  Instance_Registration(instance_dir, save_shapefile, tif_height_pixel=1000, tif_width_pixel=1000, tif_height_res=-0.01, tif_width_res=0.01, tile_overlap_ratio=0.1, detection_threshold=0.75, segmentation_threshold=0.5, iou_threshold=0.5, disable_merge=False, test=True, unzip=False)\n",
      " |  \n",
      " |  Methods defined here:\n",
      " |  \n",
      " |  __init__(self, instance_dir, save_shapefile, tif_height_pixel=1000, tif_width_pixel=1000, tif_height_res=-0.01, tif_width_res=0.01, tile_overlap_ratio=0.1, detection_threshold=0.75, segmentation_threshold=0.5, iou_threshold=0.5, disable_merge=False, test=True, unzip=False)\n",
      " |      merge and register instances using split pickle files and tiff tiles. The pickle file name is consistant with the names of its corresponding shapefile and tif file. Each pickle file includes a dictionary of instance predictions, e.g., {'image'=, 'bb'=, 'labels'=, 'scores'=, 'masks'=, 'image_name'=, 'ids'=}.\n",
      " |      'image_name' has the absolute path of the image. 'masks' is masks of prediction instances with segmentation scores. 'ids' is designed to evaluate instance registration for fake ellipse instance data. It indicates the ids of the original instances which the split instances come from. For actual instance segmentation practice, 'ids' can be random integers.\n",
      " |      \n",
      " |      Args:\n",
      " |          instance_dir (string): directory of split tiles. it should include split pickle files and tiff tiles.\n",
      " |          save_shapefile (string): file to save the merged shapefile. \n",
      " |          tif_height_pixel (int, optional): tif file height in pixel. Defaults to 1000.\n",
      " |          tif_width_pixel (int, optional): tif file width in pixel. Defaults to 1000.\n",
      " |          tif_height_res (float, optional): tif file resolution in height, meters per pixel. Origin of a tif file is at top left, thus the pixel size in height is negative. This argument can be found using `dalinfo x.tif`. Pixel Size = (0.010000000000000,-0.010000000000000). Defaults to -0.01.\n",
      " |          tif_width_res (float, optional): tif file resolution in width, meters per pixel. Defaults to 0.01.\n",
      " |          tile_overlap_ratio (float, optional): tile overlap ratio scale. For example, if overlap is 1 m and tile height is 10 m, then the tile_overlap_ratio is 0.1. Defaults to 0.1.\n",
      " |          detection_threshold (float, optional): only instances with detection scores greater than the detection_threshold will be considered for instance registration. Defaults to 0.75.\n",
      " |          segmentation_threshold (float, optional): only pixels with segmentation scores greater than the segmentation threshold will be considered for instance registration. Defaults to 0.5.\n",
      " |          iou_threshold (float, optional): if polygons from two instances at their overlap region exceed the iou_threshold, the two instances will be merged. Defaults to 0.5.\n",
      " |          disable_merge (bool, optional): skip instance registration in True. Defaults to False.\n",
      " |          test (bool, optional): set True if masks in pickle files has three dimensions; set False for three dimensions. This difference is caused by the fact that real instance segmentation and fake ellipse generation have different dimensions for masks. Defaults to True.\n",
      " |  \n",
      " |  clean_twin_instances(self)\n",
      " |  \n",
      " |  combine_shapefiles(self)\n",
      " |  \n",
      " |  merge_twins(self, id1, id2)\n",
      " |  \n",
      " |  register_tiles(self, tile_indices)\n",
      " |  \n",
      " |  start_registration(self, continue_regitration=False)\n",
      " |  \n",
      " |  ----------------------------------------------------------------------\n",
      " |  Data descriptors defined here:\n",
      " |  \n",
      " |  __dict__\n",
      " |      dictionary for instance variables (if defined)\n",
      " |  \n",
      " |  __weakref__\n",
      " |      list of weak references to the object (if defined)\n",
      "\n"
     ]
    }
   ],
   "source": [
    "help(Instance_Registration)"
   ]
  },
  {
   "cell_type": "code",
   "execution_count": 53,
   "metadata": {},
   "outputs": [
    {
     "name": "stdout",
     "output_type": "stream",
     "text": [
      "/root/rsisa/data/random_generation_tutorial/split_shp_tif\n",
      "/root/rsisa/data/random_generation_tutorial/ellipses_100_10_3_1000_10_300_1000_merge.shp\n"
     ]
    }
   ],
   "source": [
    "instance_dir = \"/root/rsisa/data/random_generation_tutorial/split_shp_tif\"\n",
    "save_shp_file = \"/root/rsisa/data/random_generation_tutorial/ellipses_100_10_3_1000_10_300_1000_merge.shp\"\n",
    "iou_threshold = 0.75\n",
    "\n",
    "print(instance_dir)\n",
    "print(save_shp_file)"
   ]
  },
  {
   "cell_type": "code",
   "execution_count": 54,
   "metadata": {},
   "outputs": [
    {
     "name": "stdout",
     "output_type": "stream",
     "text": [
      "Instance registration: \n"
     ]
    },
    {
     "name": "stderr",
     "output_type": "stream",
     "text": [
      "100%|███████████████████████████████████████████| 16/16 [01:15<00:00,  4.73s/it]\n"
     ]
    }
   ],
   "source": [
    "ir = Instance_Registration(instance_dir, \n",
    "                           save_shp_file,\n",
    "                           tif_width_pixel=int(tile_length/pixel_size),\n",
    "                           tif_height_pixel=int(tile_length/pixel_size),\n",
    "                           tif_width_res=pixel_size,\n",
    "                           tif_height_res=-pixel_size,\n",
    "                           tile_overlap_ratio=overlap/tile_length,\n",
    "                           iou_threshold=iou_threshold, \n",
    "                           disable_merge=False, \n",
    "                           unzip=zip)\n",
    "\n",
    "\n",
    "updated_tile_files, timestamps = ir.start_registration()\n",
    "ir.combine_shapefiles()"
   ]
  },
  {
   "cell_type": "code",
   "execution_count": 55,
   "metadata": {
    "scrolled": true
   },
   "outputs": [
    {
     "data": {
      "text/plain": [
       "['ellipses_100_10_3_1000_10_300_1000_time_space.npy',\n",
       " 'ellipses_100_10_3_1000_10_300_1000_merge.dbf',\n",
       " 'ellipses_100_10_3_1000_10_300_1000.dbf',\n",
       " 'ellipses_100_10_3_1000_10_300_1000.cpg',\n",
       " 'ellipses_100_10_3_1000_10_300_1000_merge.shp',\n",
       " 'split_shp_tif',\n",
       " '0_0.cpg',\n",
       " 'ellipses_100_10_3_1000_10_300_1000.shx',\n",
       " 'ellipses_100_10_3_1000_10_300_1000_merge.shx',\n",
       " 'ellipses_100_10_3_1000_10_300_1000_merge.cpg',\n",
       " 'ellipses_100_10_3_1000_10_300_1000.prj',\n",
       " '0_0.prj',\n",
       " '0_0.shx',\n",
       " '0_0.shp',\n",
       " 'ellipses_100_10_3_1000_10_300_1000.tif',\n",
       " 'ellipses_100_10_3_1000_10_300_1000_merge_time_space.npy',\n",
       " 'ellipses_100_10_3_1000_10_300_1000_merge.prj',\n",
       " '0_0.dbf',\n",
       " 'ellipses_100_10_3_1000_10_300_1000.shp']"
      ]
     },
     "execution_count": 55,
     "metadata": {},
     "output_type": "execute_result"
    }
   ],
   "source": [
    "# check the generated files\n",
    "os.listdir('/root/rsisa/data/random_generation_tutorial')"
   ]
  },
  {
   "cell_type": "markdown",
   "metadata": {},
   "source": [
    "`ellipses_100_10_3_1000_10_300_1000_merge_time_space.npy` logs the time and space usage of the instance registration process"
   ]
  },
  {
   "cell_type": "markdown",
   "metadata": {},
   "source": [
    "# Evaluation"
   ]
  },
  {
   "cell_type": "code",
   "execution_count": 56,
   "metadata": {},
   "outputs": [
    {
     "name": "stdout",
     "output_type": "stream",
     "text": [
      "total:  906\n",
      "TP, TN, FP, FN:  255 629 7 15\n",
      "FP:  [223, [79, 79, 805], 201, 897, 460, 255, 249]\n",
      "FN:  [540, 706, 24, 430, 777, 155, 292, 558, 767, 67, 188, 291, 643, 145, 729]\n",
      "Duplicated ids:  []\n",
      "accuracy: 97.57%\n",
      "precision: 97.33%\n",
      "recall: 94.44%\n"
     ]
    }
   ],
   "source": [
    "from rsisa.evaluation import evaluate\n",
    "\n",
    "# note that the ground truth should be cropped shapefile instead of the original generated shapefile\n",
    "evaluate('/root/rsisa/data/random_generation_tutorial/ellipses_100_10_3_1000_10_300_1000.shp', \n",
    "         '/root/rsisa/data/random_generation_tutorial/ellipses_100_10_3_1000_10_300_1000_merge.shp')"
   ]
  }
 ],
 "metadata": {
  "colab": {
   "authorship_tag": "ABX9TyNMe/FNc3ZYUsj5JSGsY81I",
   "name": "random_ellipse_shapefile_generation.ipynb",
   "provenance": []
  },
  "kernelspec": {
   "display_name": "Python 3 (ipykernel)",
   "language": "python",
   "name": "python3"
  },
  "language_info": {
   "codemirror_mode": {
    "name": "ipython",
    "version": 3
   },
   "file_extension": ".py",
   "mimetype": "text/x-python",
   "name": "python",
   "nbconvert_exporter": "python",
   "pygments_lexer": "ipython3",
   "version": "3.8.10"
  }
 },
 "nbformat": 4,
 "nbformat_minor": 1
}
