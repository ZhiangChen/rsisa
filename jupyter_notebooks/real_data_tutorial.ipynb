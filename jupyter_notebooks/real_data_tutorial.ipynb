{
 "cells": [
  {
   "cell_type": "code",
   "execution_count": 1,
   "metadata": {
    "colab": {
     "base_uri": "https://localhost:8080/"
    },
    "executionInfo": {
     "elapsed": 11409,
     "status": "ok",
     "timestamp": 1651972796907,
     "user": {
      "displayName": "Zhiang Chen",
      "userId": "14710434422152901796"
     },
     "user_tz": 420
    },
    "id": "KXH4bYZP5HBo",
    "outputId": "4a098cde-1856-4335-9386-ac8f605e8c3a"
   },
   "outputs": [],
   "source": [
    "google_colab = False\n",
    "\n",
    "if google_colab:\n",
    "    !pip install geopandas\n",
    "    from google.colab import drive\n",
    "    drive.mount(\"/content/drive\")\n",
    "    os.chdir('/content/drive/MyDrive/ASU - Zhiang/Projects/instance segmentation/')\n",
    "    os.listdir()\n",
    "    \n",
    "import os"
   ]
  },
  {
   "cell_type": "markdown",
   "metadata": {},
   "source": [
    "download the rock data: https://drive.google.com/file/d/14L30dFGVBi_iK95BcqAOTi6SGjq59orS/view?usp=sharing"
   ]
  },
  {
   "cell_type": "markdown",
   "metadata": {},
   "source": [
    "# Annotation map splitting"
   ]
  },
  {
   "cell_type": "code",
   "execution_count": 2,
   "metadata": {
    "id": "-TqFcbeEQkv7"
   },
   "outputs": [],
   "source": [
    "from rsisa.annotation_map_split import Tile_Splitter\n",
    "from rsisa.annotation_map_split import Dataset\n",
    "from fiona.crs import CRS"
   ]
  },
  {
   "cell_type": "code",
   "execution_count": 3,
   "metadata": {},
   "outputs": [
    {
     "name": "stdout",
     "output_type": "stream",
     "text": [
      "Help on class Tile_Splitter in module rsisa.annotation_map_split:\n",
      "\n",
      "class Tile_Splitter(builtins.object)\n",
      " |  Tile_Splitter(shapefile_path, save_dir, crs, area_x1=0, area_y1=0, area_x2=30, area_y2=30, tile_size=10, overlap=1, tif_path=None, keep_instance_tif=True)\n",
      " |  \n",
      " |  Methods defined here:\n",
      " |  \n",
      " |  __init__(self, shapefile_path, save_dir, crs, area_x1=0, area_y1=0, area_x2=30, area_y2=30, tile_size=10, overlap=1, tif_path=None, keep_instance_tif=True)\n",
      " |      Split an annotation map to annotation tiles (shapefiles). It provides an option to split the corresponding tif map. \n",
      " |      \n",
      " |      Args:\n",
      " |          shapefile_path (string): path of the shapefile to be split\n",
      " |          save_dir (string): path of the split shapefiles to be saved\n",
      " |          crs (_type_): coordinate reference system (e.g., from fiona.crs import from_epsg)\n",
      " |          area_x1 (float): study area coordinate x1 in meters. Not required if tif_path is not None. (x1, y1) are small coordinates; (x2, y2) are large coordinates. \n",
      " |          area_y1 (float): study area coordinate y1 in meters.\n",
      " |          area_x2 (float): study area coordinate x2 in meters. (x2, y2) are used to intially decide the study area. The actual study are will also consider the tile_size in the last tiles.\n",
      " |          area_y2 (float): study area coordinate y2 in meters.\n",
      " |          tile_size (float): in meters\n",
      " |          overlap (float): overlap between tiles in meters.\n",
      " |          tif_path (string or None): path of the tif file to be split. None if only shapefile is to be split.\n",
      " |          keep_instance_tif (bool): it will only save tif files where there are instances if True. Otherwise, it saves all tif tiles. It works only when tif_path is not None.\n",
      " |  \n",
      " |  split(self)\n",
      " |  \n",
      " |  ----------------------------------------------------------------------\n",
      " |  Data descriptors defined here:\n",
      " |  \n",
      " |  __dict__\n",
      " |      dictionary for instance variables (if defined)\n",
      " |  \n",
      " |  __weakref__\n",
      " |      list of weak references to the object (if defined)\n",
      "\n"
     ]
    }
   ],
   "source": [
    "help(Tile_Splitter)"
   ]
  },
  {
   "cell_type": "code",
   "execution_count": null,
   "metadata": {},
   "outputs": [],
   "source": [
    "shp_path = '/root/rsisa/data/rocks/rocks.shp'\n",
    "split_shp_tif_dir = '/root/rsisa/data/rocks/split_shp_tif'\n",
    "tif_path = '/root/rsisa/data/rocks/rocks.tif'\n",
    "save_sub_dir = '/root/rsisa/data/rocks/'\n",
    "tile_length = 10\n",
    "overlap = 1\n",
    "ellipse_max = 1.0\n",
    "pixel_size = 0.00728542 \n",
    "\n",
    "\n",
    "epsg = 32611  # WGS 84 / UTM zone 11N\n",
    "crs = CRS.from_epsg(epsg)\n",
    "\n",
    "print(shp_path)\n",
    "print(split_shp_tif_dir)\n",
    "print(tif_path)\n",
    "print(save_sub_dir)"
   ]
  },
  {
   "cell_type": "code",
   "execution_count": null,
   "metadata": {},
   "outputs": [],
   "source": [
    "# split the study area and create annotation tiles\n",
    "split_config = {'shapefile_path': shp_path, \n",
    "                'save_dir': split_shp_tif_dir, \n",
    "                'crs':crs, \n",
    "                'tile_size': tile_length, \n",
    "                'overlap': overlap,\n",
    "                'tif_path': tif_path, \n",
    "                'keep_instance_tif': True}\n",
    "\n",
    "ts = Tile_Splitter(**split_config)\n",
    "ts.split()"
   ]
  },
  {
   "cell_type": "code",
   "execution_count": null,
   "metadata": {},
   "outputs": [],
   "source": [
    "# crop the study area (remove edges)\n",
    "tile_number = 31\n",
    "split_config = {'shapefile_path': shp_path, \n",
    "                'save_dir': save_sub_dir, # this should be sub dir\n",
    "                'crs':crs, \n",
    "                'tile_size':(tile_length - overlap) * tile_number + overlap + ellipse_max/2., # just change this to the size of study area. here because the ellipses go slightly than the study area, if we set tile_size of 30, the exceeding part will be split into other tiles. thus we have a large tile_size here.\n",
    "                'overlap':0,\n",
    "                'tif_path': tif_path, \n",
    "                'keep_instance_tif': True}\n",
    "\n",
    "ts = Tile_Splitter(**split_config)\n",
    "ts.split()"
   ]
  },
  {
   "cell_type": "code",
   "execution_count": null,
   "metadata": {
    "scrolled": true
   },
   "outputs": [],
   "source": [
    "# check the generated files\n",
    "os.listdir('/root/rsisa/data/random_generation_tutorial')"
   ]
  },
  {
   "cell_type": "code",
   "execution_count": null,
   "metadata": {},
   "outputs": [],
   "source": [
    "# create prediction tiles using the annotation tiles\n",
    "# help(Dataset)\n",
    "\n",
    "rock_data = Dataset(pixel_size=int(tile_length/pixel_size), split_path=split_shp_tif_dir, input_channel=(0,1,2)) "
   ]
  },
  {
   "cell_type": "code",
   "execution_count": null,
   "metadata": {},
   "outputs": [],
   "source": [
    "rock_data.save_pickles(zip=zip)"
   ]
  },
  {
   "cell_type": "code",
   "execution_count": null,
   "metadata": {},
   "outputs": [],
   "source": [
    "# check generated prediction tiles (.zip files)\n",
    "os.listdir('/root/rsisa/data/rocks/split_shp_tif')[:20]"
   ]
  },
  {
   "cell_type": "markdown",
   "metadata": {},
   "source": [
    "`rocks_time_space.npy` logs the time and space usage of the annotation splitting process"
   ]
  },
  {
   "cell_type": "code",
   "execution_count": null,
   "metadata": {},
   "outputs": [],
   "source": [
    "print(len(rock_data))"
   ]
  },
  {
   "cell_type": "code",
   "execution_count": null,
   "metadata": {},
   "outputs": [],
   "source": [
    "# visualize the dataset\n",
    "\n",
    "image, target = rock_data[0]\n",
    "print(target['image_name'])\n",
    "rock_data.show(0)\n",
    "print('-')\n",
    "rock_data.show_overlay(0)\n",
    "print('-')\n",
    "rock_data.show_overlay(0, random_color=True, bbox=True)"
   ]
  },
  {
   "cell_type": "code",
   "execution_count": null,
   "metadata": {},
   "outputs": [],
   "source": [
    "# make sure the images at the tif map edge are also checked\n",
    "\n",
    "for i, (image, target) in enumerate(rock_data):\n",
    "    if target is not None:\n",
    "        if target['image_name'].split('/')[-1] == '28_5.tif':\n",
    "            print(i)\n",
    "            break\n",
    "\n",
    "rock_data.show_overlay(i, random_color=True, bbox=True)"
   ]
  },
  {
   "cell_type": "markdown",
   "metadata": {},
   "source": [
    "# Instance registration without instance segmentation"
   ]
  },
  {
   "cell_type": "code",
   "execution_count": 4,
   "metadata": {},
   "outputs": [],
   "source": [
    "from rsisa.instance_registration import Instance_Registration"
   ]
  },
  {
   "cell_type": "code",
   "execution_count": 5,
   "metadata": {},
   "outputs": [
    {
     "name": "stdout",
     "output_type": "stream",
     "text": [
      "Help on class Instance_Registration in module rsisa.instance_registration:\n",
      "\n",
      "class Instance_Registration(builtins.object)\n",
      " |  Instance_Registration(instance_dir, save_shapefile, tif_height_pixel=1000, tif_width_pixel=1000, tif_height_res=-0.01, tif_width_res=0.01, tif_map_file=None, tile_overlap_ratio=0.1, detection_threshold=0.75, segmentation_threshold=0.5, iou_threshold=0.5, disable_merge=False, test=True, unzip=False)\n",
      " |  \n",
      " |  Methods defined here:\n",
      " |  \n",
      " |  __init__(self, instance_dir, save_shapefile, tif_height_pixel=1000, tif_width_pixel=1000, tif_height_res=-0.01, tif_width_res=0.01, tif_map_file=None, tile_overlap_ratio=0.1, detection_threshold=0.75, segmentation_threshold=0.5, iou_threshold=0.5, disable_merge=False, test=True, unzip=False)\n",
      " |      merge and register instances using split pickle files and tiff tiles. The pickle file name is consistant with the names of its corresponding shapefile and tif file. Each pickle file includes a dictionary of instance predictions, e.g., {'image'=, 'bb'=, 'labels'=, 'scores'=, 'masks'=, 'image_name'=, 'ids'=}.\n",
      " |      'image_name' has the absolute path of the image. 'masks' is masks of prediction instances with segmentation scores. 'ids' is designed to evaluate instance registration for fake ellipse instance data. It indicates the ids of the original instances which the split instances come from. For actual instance segmentation practice, 'ids' can be random integers.\n",
      " |      \n",
      " |      Args:\n",
      " |          instance_dir (string): directory of split tiles. it should include split pickle files and tiff tiles.\n",
      " |          save_shapefile (string): file to save the merged shapefile. \n",
      " |          tif_height_pixel (int, optional): tif file height in pixel. Defaults to 1000.\n",
      " |          tif_width_pixel (int, optional): tif file width in pixel. Defaults to 1000.\n",
      " |          tif_height_res (float, optional): tif file resolution in height, meters per pixel. Origin of a tif file is at top left, thus the pixel size in height is negative. This argument can be found using `dalinfo x.tif`. Pixel Size = (0.010000000000000,-0.010000000000000). Defaults to -0.01.\n",
      " |          tif_width_res (float, optional): tif file resolution in width, meters per pixel. Defaults to 0.01.\n",
      " |          tif_map_file (string, optional): the path of the tif map.\n",
      " |          tile_overlap_ratio (float, optional): tile overlap ratio scale. For example, if overlap is 1 m and tile height is 10 m, then the tile_overlap_ratio is 0.1. Defaults to 0.1.\n",
      " |          detection_threshold (float, optional): only instances with detection scores greater than the detection_threshold will be considered for instance registration. Defaults to 0.75.\n",
      " |          segmentation_threshold (float, optional): only pixels with segmentation scores greater than the segmentation threshold will be considered for instance registration. Defaults to 0.5.\n",
      " |          iou_threshold (float, optional): if polygons from two instances at their overlap region exceed the iou_threshold, the two instances will be merged. Defaults to 0.5.\n",
      " |          disable_merge (bool, optional): skip instance registration in True. Defaults to False.\n",
      " |          test (bool, optional): set True if masks in pickle files has three dimensions; set False for four dimensions. This difference is caused by the fact that real instance segmentation and fake ellipse generation have different dimensions for masks. Defaults to True.\n",
      " |  \n",
      " |  clean_twin_instances(self)\n",
      " |  \n",
      " |  combine_shapefiles(self)\n",
      " |  \n",
      " |  merge_twins(self, id1, id2)\n",
      " |  \n",
      " |  register_tiles(self, tile_indices)\n",
      " |  \n",
      " |  start_registration(self, continue_regitration=False)\n",
      " |  \n",
      " |  ----------------------------------------------------------------------\n",
      " |  Data descriptors defined here:\n",
      " |  \n",
      " |  __dict__\n",
      " |      dictionary for instance variables (if defined)\n",
      " |  \n",
      " |  __weakref__\n",
      " |      list of weak references to the object (if defined)\n",
      "\n"
     ]
    }
   ],
   "source": [
    "help(Instance_Registration)"
   ]
  },
  {
   "cell_type": "code",
   "execution_count": 14,
   "metadata": {},
   "outputs": [],
   "source": [
    "instance_dir = \"/root/rsisa/data/rocks/split_shp_tif\"\n",
    "save_shp_file = \"/root/rsisa/data/rocks/rocks_merge.shp\"\n",
    "tif_map = \"/root/rsisa/data/rocks/0_0.tif\"\n",
    "iou_threshold = 0.5"
   ]
  },
  {
   "cell_type": "code",
   "execution_count": 15,
   "metadata": {
    "scrolled": false
   },
   "outputs": [],
   "source": [
    "ir = Instance_Registration(instance_dir, \n",
    "                           save_shp_file,\n",
    "                           tif_width_pixel=tile_length/pixel_size,\n",
    "                           tif_height_pixel=tile_length/pixel_size,\n",
    "                           tif_width_res=pixel_size,\n",
    "                           tif_height_res=-pixel_size,\n",
    "                           tif_map_file=tif_map,\n",
    "                           tile_overlap_ratio=overlap/tile_length,\n",
    "                           iou_threshold=iou_threshold, \n",
    "                           disable_merge=False, \n",
    "                           unzip=zip)\n",
    "\n",
    "\n"
   ]
  },
  {
   "cell_type": "code",
   "execution_count": 16,
   "metadata": {},
   "outputs": [
    {
     "name": "stdout",
     "output_type": "stream",
     "text": [
      "Instance registration: \n"
     ]
    },
    {
     "name": "stderr",
     "output_type": "stream",
     "text": [
      "100%|█████████████████████████████████████████| 360/360 [28:10<00:00,  4.70s/it]\n"
     ]
    }
   ],
   "source": [
    "updated_tile_files, timestamps = ir.start_registration()\n",
    "ir.combine_shapefiles()"
   ]
  },
  {
   "cell_type": "code",
   "execution_count": 19,
   "metadata": {
    "scrolled": true
   },
   "outputs": [
    {
     "data": {
      "text/plain": [
       "['rocks_merge.prj',\n",
       " 'rocks_merge.shp',\n",
       " 'rocks.cpg',\n",
       " 'rocks_merge_remaining.cpg',\n",
       " 'rocks_merge_twins.pickle',\n",
       " 'rocks.sbx',\n",
       " 'rocks_merge_time_space.npy',\n",
       " 'split_shp_tif',\n",
       " 'rocks_merge_remaining.dbf',\n",
       " 'rocks.xml',\n",
       " 'rocks_time_space.npy',\n",
       " 'rocks_merge.cpg',\n",
       " '0_0.cpg',\n",
       " '0_0.tif',\n",
       " 'rocks.dbf',\n",
       " '0_0.prj',\n",
       " 'rocks_merge_results.npy',\n",
       " '0_0.shx',\n",
       " 'rocks_merge_remaining.prj',\n",
       " '0_0.shp',\n",
       " 'rocks.sbn',\n",
       " 'rocks_merge_remaining.shp',\n",
       " 'rocks_merge_remaining.shx',\n",
       " 'rocks.tif',\n",
       " 'rocks.shp',\n",
       " 'rocks.shx',\n",
       " '0_0.dbf',\n",
       " 'rocks.prj',\n",
       " 'rocks_merge.shx',\n",
       " 'rocks_merge.dbf']"
      ]
     },
     "execution_count": 19,
     "metadata": {},
     "output_type": "execute_result"
    }
   ],
   "source": [
    "# check the generated files\n",
    "os.listdir('/root/rsisa/data/rocks')"
   ]
  },
  {
   "cell_type": "markdown",
   "metadata": {},
   "source": [
    "`rocks_merge_time_space.npy` logs the time and space usage of the instance registration process"
   ]
  },
  {
   "cell_type": "markdown",
   "metadata": {},
   "source": [
    "# Evaluation"
   ]
  },
  {
   "cell_type": "code",
   "execution_count": 25,
   "metadata": {
    "scrolled": false
   },
   "outputs": [
    {
     "name": "stdout",
     "output_type": "stream",
     "text": [
      "total:  11362\n",
      "TP, TN, FP, FN:  3620 7576 8 158\n",
      "FP:  [2579, 6095, 7016, 6270, 6489, 6712, [423, 423, 424], 6274]\n",
      "FN:  [10669, 8640, 8715, 10677, 10972, 11022, 10495, 7116, 7118, 7029, 10391, 6931, 5687, 5689, 7550, 2644, 4061, 2233, 2167, 2239, 1937, 2464, 4782, 1872, 2027, 1642, 1642, 10396, 3991, 4011, 1697, 3942, 1268, 2239, 4766, 5014, 5281, 5933, 1577, 1029, 8431, 2682, 5349, 3186, 4611, 4619, 4630, 4593, 2548, 5285, 5901, 9073, 6782, 5032, 4735, 4760, 4899, 3415, 7167, 6098, 6115, 4565, 2803, 496, 3331, 3348, 9647, 547, 7829, 7439, 5493, 1043, 10930, 9276, 449, 1055, 6999, 7553, 7556, 6568, 6235, 10275, 10202, 5228, 6070, 3134, 3174, 4612, 4615, 7710, 7495, 6330, 4627, 1752, 7829, 8189, 2767, 7526, 917, 6715, 386, 8007, 7368, 850, 10306, 9080, 6667, 8566, 9287, 9233, 9431, 9135, 9138, 9139, 2060, 4697, 3464, 2927, 4079, 4080, 5714, 2013, 4254, 4266, 7827, 7821, 7321, 1844, 9240, 1082, 3531, 6793, 6868, 6869, 386, 10477, 10605, 3634, 10546, 3338, 2911, 3014, 3015, 7941, 2813, 9421, 9984, 9905, 5719, 8470, 846, 8322, 1073, 9939, 10706, 9886, 3720, 3647]\n",
      "Duplicated ids:  [5363]\n",
      "accuracy: 98.54%\n",
      "precision: 99.78%\n",
      "recall: 95.82%\n"
     ]
    }
   ],
   "source": [
    "from rsisa.evaluation import evaluate\n",
    "\n",
    "# note that the ground truth should be cropped shapefile instead of the original generated shapefile\n",
    "evaluate('/root/rsisa/data/rocks/0_0.shp', \n",
    "         '/root/rsisa/data/rocks/rocks_merge.shp',\n",
    "         IoU_threshold=0.5)"
   ]
  },
  {
   "cell_type": "code",
   "execution_count": 28,
   "metadata": {
    "scrolled": true
   },
   "outputs": [
    {
     "name": "stderr",
     "output_type": "stream",
     "text": [
      "/usr/local/lib/python3.8/dist-packages/shapely/set_operations.py:133: RuntimeWarning: invalid value encountered in intersection\n",
      "  return lib.intersection(a, b, **kwargs)\n"
     ]
    },
    {
     "ename": "KeyError",
     "evalue": "11052",
     "output_type": "error",
     "traceback": [
      "\u001b[0;31m---------------------------------------------------------------------------\u001b[0m",
      "\u001b[0;31mValueError\u001b[0m                                Traceback (most recent call last)",
      "File \u001b[0;32m/usr/local/lib/python3.8/dist-packages/pandas/core/indexes/range.py:345\u001b[0m, in \u001b[0;36mRangeIndex.get_loc\u001b[0;34m(self, key)\u001b[0m\n\u001b[1;32m    344\u001b[0m \u001b[38;5;28;01mtry\u001b[39;00m:\n\u001b[0;32m--> 345\u001b[0m     \u001b[38;5;28;01mreturn\u001b[39;00m \u001b[38;5;28;43mself\u001b[39;49m\u001b[38;5;241;43m.\u001b[39;49m\u001b[43m_range\u001b[49m\u001b[38;5;241;43m.\u001b[39;49m\u001b[43mindex\u001b[49m\u001b[43m(\u001b[49m\u001b[43mnew_key\u001b[49m\u001b[43m)\u001b[49m\n\u001b[1;32m    346\u001b[0m \u001b[38;5;28;01mexcept\u001b[39;00m \u001b[38;5;167;01mValueError\u001b[39;00m \u001b[38;5;28;01mas\u001b[39;00m err:\n",
      "\u001b[0;31mValueError\u001b[0m: 11052 is not in range",
      "\nThe above exception was the direct cause of the following exception:\n",
      "\u001b[0;31mKeyError\u001b[0m                                  Traceback (most recent call last)",
      "Cell \u001b[0;32mIn[28], line 4\u001b[0m\n\u001b[1;32m      1\u001b[0m \u001b[38;5;28;01mfrom\u001b[39;00m \u001b[38;5;21;01mrsisa\u001b[39;00m\u001b[38;5;21;01m.\u001b[39;00m\u001b[38;5;21;01mevaluation\u001b[39;00m \u001b[38;5;28;01mimport\u001b[39;00m evaluate\n\u001b[1;32m      3\u001b[0m \u001b[38;5;66;03m# note that the ground truth should be cropped shapefile instead of the original generated shapefile\u001b[39;00m\n\u001b[0;32m----> 4\u001b[0m \u001b[43mevaluate\u001b[49m\u001b[43m(\u001b[49m\u001b[38;5;124;43m'\u001b[39;49m\u001b[38;5;124;43m/root/rsisa/data/filtered_0_0.shp\u001b[39;49m\u001b[38;5;124;43m'\u001b[39;49m\u001b[43m,\u001b[49m\u001b[43m \u001b[49m\n\u001b[1;32m      5\u001b[0m \u001b[43m         \u001b[49m\u001b[38;5;124;43m'\u001b[39;49m\u001b[38;5;124;43m/root/rsisa/data/filtered_rocks_merge.shp\u001b[39;49m\u001b[38;5;124;43m'\u001b[39;49m\u001b[43m,\u001b[49m\n\u001b[1;32m      6\u001b[0m \u001b[43m         \u001b[49m\u001b[43mIoU_threshold\u001b[49m\u001b[38;5;241;43m=\u001b[39;49m\u001b[38;5;241;43m0.5\u001b[39;49m\u001b[43m)\u001b[49m\n",
      "File \u001b[0;32m/usr/local/lib/python3.8/dist-packages/rsisa/evaluation.py:54\u001b[0m, in \u001b[0;36mevaluate\u001b[0;34m(groundtruth_shapefile, merged_shapefile, IoU_threshold)\u001b[0m\n\u001b[1;32m     51\u001b[0m \u001b[38;5;28;01melse\u001b[39;00m:\n\u001b[1;32m     52\u001b[0m     \u001b[38;5;66;03m# unmerged result: negative\u001b[39;00m\n\u001b[1;32m     53\u001b[0m     \u001b[38;5;28mid\u001b[39m \u001b[38;5;241m=\u001b[39m \u001b[38;5;28mint\u001b[39m(ids)\n\u001b[0;32m---> 54\u001b[0m     gt_poly \u001b[38;5;241m=\u001b[39m \u001b[43mgt_shp\u001b[49m\u001b[43m[\u001b[49m\u001b[38;5;124;43m'\u001b[39;49m\u001b[38;5;124;43mgeometry\u001b[39;49m\u001b[38;5;124;43m'\u001b[39;49m\u001b[43m]\u001b[49m\u001b[43m[\u001b[49m\u001b[38;5;28;43mid\u001b[39;49m\u001b[43m]\u001b[49m\n\u001b[1;32m     55\u001b[0m     \u001b[38;5;28;01mif\u001b[39;00m IoU(gt_poly, merged_poly) \u001b[38;5;241m>\u001b[39m IoU_threshold:\n\u001b[1;32m     56\u001b[0m         \u001b[38;5;66;03m# true negative\u001b[39;00m\n\u001b[1;32m     57\u001b[0m         TN\u001b[38;5;241m.\u001b[39mappend(\u001b[38;5;28mid\u001b[39m)\n",
      "File \u001b[0;32m/usr/local/lib/python3.8/dist-packages/geopandas/geoseries.py:629\u001b[0m, in \u001b[0;36mGeoSeries.__getitem__\u001b[0;34m(self, key)\u001b[0m\n\u001b[1;32m    628\u001b[0m \u001b[38;5;28;01mdef\u001b[39;00m \u001b[38;5;21m__getitem__\u001b[39m(\u001b[38;5;28mself\u001b[39m, key):\n\u001b[0;32m--> 629\u001b[0m     \u001b[38;5;28;01mreturn\u001b[39;00m \u001b[38;5;28;43mself\u001b[39;49m\u001b[38;5;241;43m.\u001b[39;49m\u001b[43m_wrapped_pandas_method\u001b[49m\u001b[43m(\u001b[49m\u001b[38;5;124;43m\"\u001b[39;49m\u001b[38;5;124;43m__getitem__\u001b[39;49m\u001b[38;5;124;43m\"\u001b[39;49m\u001b[43m,\u001b[49m\u001b[43m \u001b[49m\u001b[43mkey\u001b[49m\u001b[43m)\u001b[49m\n",
      "File \u001b[0;32m/usr/local/lib/python3.8/dist-packages/geopandas/geoseries.py:622\u001b[0m, in \u001b[0;36mGeoSeries._wrapped_pandas_method\u001b[0;34m(self, mtd, *args, **kwargs)\u001b[0m\n\u001b[1;32m    620\u001b[0m \u001b[38;5;28;01mdef\u001b[39;00m \u001b[38;5;21m_wrapped_pandas_method\u001b[39m(\u001b[38;5;28mself\u001b[39m, mtd, \u001b[38;5;241m*\u001b[39margs, \u001b[38;5;241m*\u001b[39m\u001b[38;5;241m*\u001b[39mkwargs):\n\u001b[1;32m    621\u001b[0m \u001b[38;5;250m    \u001b[39m\u001b[38;5;124;03m\"\"\"Wrap a generic pandas method to ensure it returns a GeoSeries\"\"\"\u001b[39;00m\n\u001b[0;32m--> 622\u001b[0m     val \u001b[38;5;241m=\u001b[39m \u001b[38;5;28;43mgetattr\u001b[39;49m\u001b[43m(\u001b[49m\u001b[38;5;28;43msuper\u001b[39;49m\u001b[43m(\u001b[49m\u001b[43m)\u001b[49m\u001b[43m,\u001b[49m\u001b[43m \u001b[49m\u001b[43mmtd\u001b[49m\u001b[43m)\u001b[49m\u001b[43m(\u001b[49m\u001b[38;5;241;43m*\u001b[39;49m\u001b[43margs\u001b[49m\u001b[43m,\u001b[49m\u001b[43m \u001b[49m\u001b[38;5;241;43m*\u001b[39;49m\u001b[38;5;241;43m*\u001b[39;49m\u001b[43mkwargs\u001b[49m\u001b[43m)\u001b[49m\n\u001b[1;32m    623\u001b[0m     \u001b[38;5;28;01mif\u001b[39;00m \u001b[38;5;28mtype\u001b[39m(val) \u001b[38;5;241m==\u001b[39m Series:\n\u001b[1;32m    624\u001b[0m         val\u001b[38;5;241m.\u001b[39m\u001b[38;5;18m__class__\u001b[39m \u001b[38;5;241m=\u001b[39m GeoSeries\n",
      "File \u001b[0;32m/usr/local/lib/python3.8/dist-packages/pandas/core/series.py:1012\u001b[0m, in \u001b[0;36mSeries.__getitem__\u001b[0;34m(self, key)\u001b[0m\n\u001b[1;32m   1009\u001b[0m     \u001b[38;5;28;01mreturn\u001b[39;00m \u001b[38;5;28mself\u001b[39m\u001b[38;5;241m.\u001b[39m_values[key]\n\u001b[1;32m   1011\u001b[0m \u001b[38;5;28;01melif\u001b[39;00m key_is_scalar:\n\u001b[0;32m-> 1012\u001b[0m     \u001b[38;5;28;01mreturn\u001b[39;00m \u001b[38;5;28;43mself\u001b[39;49m\u001b[38;5;241;43m.\u001b[39;49m\u001b[43m_get_value\u001b[49m\u001b[43m(\u001b[49m\u001b[43mkey\u001b[49m\u001b[43m)\u001b[49m\n\u001b[1;32m   1014\u001b[0m \u001b[38;5;28;01mif\u001b[39;00m is_hashable(key):\n\u001b[1;32m   1015\u001b[0m     \u001b[38;5;66;03m# Otherwise index.get_value will raise InvalidIndexError\u001b[39;00m\n\u001b[1;32m   1016\u001b[0m     \u001b[38;5;28;01mtry\u001b[39;00m:\n\u001b[1;32m   1017\u001b[0m         \u001b[38;5;66;03m# For labels that don't resolve as scalars like tuples and frozensets\u001b[39;00m\n",
      "File \u001b[0;32m/usr/local/lib/python3.8/dist-packages/pandas/core/series.py:1121\u001b[0m, in \u001b[0;36mSeries._get_value\u001b[0;34m(self, label, takeable)\u001b[0m\n\u001b[1;32m   1118\u001b[0m     \u001b[38;5;28;01mreturn\u001b[39;00m \u001b[38;5;28mself\u001b[39m\u001b[38;5;241m.\u001b[39m_values[label]\n\u001b[1;32m   1120\u001b[0m \u001b[38;5;66;03m# Similar to Index.get_value, but we do not fall back to positional\u001b[39;00m\n\u001b[0;32m-> 1121\u001b[0m loc \u001b[38;5;241m=\u001b[39m \u001b[38;5;28;43mself\u001b[39;49m\u001b[38;5;241;43m.\u001b[39;49m\u001b[43mindex\u001b[49m\u001b[38;5;241;43m.\u001b[39;49m\u001b[43mget_loc\u001b[49m\u001b[43m(\u001b[49m\u001b[43mlabel\u001b[49m\u001b[43m)\u001b[49m\n\u001b[1;32m   1123\u001b[0m \u001b[38;5;28;01mif\u001b[39;00m is_integer(loc):\n\u001b[1;32m   1124\u001b[0m     \u001b[38;5;28;01mreturn\u001b[39;00m \u001b[38;5;28mself\u001b[39m\u001b[38;5;241m.\u001b[39m_values[loc]\n",
      "File \u001b[0;32m/usr/local/lib/python3.8/dist-packages/pandas/core/indexes/range.py:347\u001b[0m, in \u001b[0;36mRangeIndex.get_loc\u001b[0;34m(self, key)\u001b[0m\n\u001b[1;32m    345\u001b[0m         \u001b[38;5;28;01mreturn\u001b[39;00m \u001b[38;5;28mself\u001b[39m\u001b[38;5;241m.\u001b[39m_range\u001b[38;5;241m.\u001b[39mindex(new_key)\n\u001b[1;32m    346\u001b[0m     \u001b[38;5;28;01mexcept\u001b[39;00m \u001b[38;5;167;01mValueError\u001b[39;00m \u001b[38;5;28;01mas\u001b[39;00m err:\n\u001b[0;32m--> 347\u001b[0m         \u001b[38;5;28;01mraise\u001b[39;00m \u001b[38;5;167;01mKeyError\u001b[39;00m(key) \u001b[38;5;28;01mfrom\u001b[39;00m \u001b[38;5;21;01merr\u001b[39;00m\n\u001b[1;32m    348\u001b[0m \u001b[38;5;28mself\u001b[39m\u001b[38;5;241m.\u001b[39m_check_indexing_error(key)\n\u001b[1;32m    349\u001b[0m \u001b[38;5;28;01mraise\u001b[39;00m \u001b[38;5;167;01mKeyError\u001b[39;00m(key)\n",
      "\u001b[0;31mKeyError\u001b[0m: 11052"
     ]
    }
   ],
   "source": [
    "from rsisa.evaluation import evaluate\n",
    "\n",
    "# note that the ground truth should be cropped shapefile instead of the original generated shapefile\n",
    "evaluate('/root/rsisa/data/filtered_0_0.shp', \n",
    "         '/root/rsisa/data/filtered_rocks_merge.shp',\n",
    "         IoU_threshold=0.5)"
   ]
  },
  {
   "cell_type": "markdown",
   "metadata": {},
   "source": [
    "---\n",
    "\n",
    "# Instance registration with instance segmentation"
   ]
  },
  {
   "cell_type": "code",
   "execution_count": 9,
   "metadata": {},
   "outputs": [],
   "source": [
    "instance_dir = \"/root/rsisa/rsisa/mask_rcnn/data/rock\"\n",
    "save_shp_file = \"/root/rsisa/rsisa/mask_rcnn/data/rocks_merge.shp\"\n",
    "tif_map = \"/root/rsisa/rsisa/mask_rcnn/data/0_0.tif\"\n",
    "iou_threshold = 0.5\n",
    "\n",
    "tile_length = 10\n",
    "overlap = 1\n",
    "ellipse_max = 1.0\n",
    "pixel_size = 0.00728542 \n",
    "detection_threshold = 0.75\n",
    "segmentation_threshold = 0.5"
   ]
  },
  {
   "cell_type": "code",
   "execution_count": 10,
   "metadata": {
    "scrolled": false
   },
   "outputs": [],
   "source": [
    "# instance registration\n",
    "ir = Instance_Registration(instance_dir, \n",
    "                           save_shp_file,\n",
    "                           tif_width_pixel=tile_length/pixel_size,\n",
    "                           tif_height_pixel=tile_length/pixel_size,\n",
    "                           tif_width_res=pixel_size,\n",
    "                           tif_height_res=-pixel_size,\n",
    "                           tif_map_file=tif_map,\n",
    "                           tile_overlap_ratio=overlap/tile_length,\n",
    "                           detection_threshold=detection_threshold, \n",
    "                           segmentation_threshold=segmentation_threshold, \n",
    "                           iou_threshold=iou_threshold, \n",
    "                           disable_merge=False, \n",
    "                           test=False,\n",
    "                           unzip=True)"
   ]
  },
  {
   "cell_type": "code",
   "execution_count": 11,
   "metadata": {},
   "outputs": [
    {
     "name": "stdout",
     "output_type": "stream",
     "text": [
      "Instance registration: \n"
     ]
    },
    {
     "name": "stderr",
     "output_type": "stream",
     "text": [
      "  0%|                                                                                                | 0/360 [00:00<?, ?it/s]\n"
     ]
    },
    {
     "ename": "IndexError",
     "evalue": "boolean index did not match indexed array along dimension 0; dimension is 36 but corresponding boolean dimension is 6",
     "output_type": "error",
     "traceback": [
      "\u001b[0;31m---------------------------------------------------------------------------\u001b[0m",
      "\u001b[0;31mIndexError\u001b[0m                                Traceback (most recent call last)",
      "Cell \u001b[0;32mIn[11], line 1\u001b[0m\n\u001b[0;32m----> 1\u001b[0m updated_tile_files, timestamps \u001b[38;5;241m=\u001b[39m \u001b[43mir\u001b[49m\u001b[38;5;241;43m.\u001b[39;49m\u001b[43mstart_registration\u001b[49m\u001b[43m(\u001b[49m\u001b[43m)\u001b[49m\n\u001b[1;32m      2\u001b[0m ir\u001b[38;5;241m.\u001b[39mcombine_shapefiles()\n",
      "File \u001b[0;32m/usr/local/lib/python3.8/dist-packages/rsisa/instance_registration.py:165\u001b[0m, in \u001b[0;36mInstance_Registration.start_registration\u001b[0;34m(self, continue_regitration)\u001b[0m\n\u001b[1;32m    163\u001b[0m masks \u001b[38;5;241m=\u001b[39m masks[detect_scores\u001b[38;5;241m>\u001b[39m\u001b[38;5;28mself\u001b[39m\u001b[38;5;241m.\u001b[39mdetection_threshold]\n\u001b[1;32m    164\u001b[0m detect_scores \u001b[38;5;241m=\u001b[39m detect_scores[detect_scores\u001b[38;5;241m>\u001b[39m\u001b[38;5;28mself\u001b[39m\u001b[38;5;241m.\u001b[39mdetection_threshold]\n\u001b[0;32m--> 165\u001b[0m id_strs \u001b[38;5;241m=\u001b[39m \u001b[43mid_strs\u001b[49m\u001b[43m[\u001b[49m\u001b[43mdetect_scores\u001b[49m\u001b[38;5;241;43m>\u001b[39;49m\u001b[38;5;28;43mself\u001b[39;49m\u001b[38;5;241;43m.\u001b[39;49m\u001b[43mdetection_threshold\u001b[49m\u001b[43m]\u001b[49m  \u001b[38;5;66;03m######################################################## \u001b[39;00m\n\u001b[1;32m    166\u001b[0m tif \u001b[38;5;241m=\u001b[39m rioxarray\u001b[38;5;241m.\u001b[39mopen_rasterio(tif_name) \n\u001b[1;32m    167\u001b[0m \u001b[38;5;28;01mfor\u001b[39;00m idx, mask \u001b[38;5;129;01min\u001b[39;00m \u001b[38;5;28menumerate\u001b[39m(masks):\n\u001b[1;32m    168\u001b[0m     \u001b[38;5;66;03m# post processing: segmentation confidence filter\u001b[39;00m\n",
      "\u001b[0;31mIndexError\u001b[0m: boolean index did not match indexed array along dimension 0; dimension is 36 but corresponding boolean dimension is 6"
     ]
    }
   ],
   "source": [
    "updated_tile_files, timestamps = ir.start_registration()\n",
    "ir.combine_shapefiles()"
   ]
  },
  {
   "cell_type": "code",
   "execution_count": null,
   "metadata": {},
   "outputs": [],
   "source": []
  }
 ],
 "metadata": {
  "colab": {
   "authorship_tag": "ABX9TyNMe/FNc3ZYUsj5JSGsY81I",
   "name": "random_ellipse_shapefile_generation.ipynb",
   "provenance": []
  },
  "kernelspec": {
   "display_name": "Python 3 (ipykernel)",
   "language": "python",
   "name": "python3"
  },
  "language_info": {
   "codemirror_mode": {
    "name": "ipython",
    "version": 3
   },
   "file_extension": ".py",
   "mimetype": "text/x-python",
   "name": "python",
   "nbconvert_exporter": "python",
   "pygments_lexer": "ipython3",
   "version": "3.8.10"
  }
 },
 "nbformat": 4,
 "nbformat_minor": 1
}
